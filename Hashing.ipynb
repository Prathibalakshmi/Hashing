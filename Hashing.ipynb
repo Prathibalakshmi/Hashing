{
 "cells": [
  {
   "cell_type": "markdown",
   "metadata": {},
   "source": [
    "# <center>Image Hashing using PCA</center>"
   ]
  },
  {
   "cell_type": "markdown",
   "metadata": {},
   "source": [
    "Hashing is most commonly used to implement hash tables and for data encryption. A hash table \n",
    "stores key/value pairs in the form of a list, while the hash function maps the elements of the dataset \n",
    "via a key and generates hash values. A real-world recognition system has to cope with several \n",
    "unseen individuals and determine whether a given face image is registered or not, and thus, certain \n",
    "elements in databases can be found much faster-using hashing functions and classification \n",
    "methods"
   ]
  },
  {
   "cell_type": "markdown",
   "metadata": {},
   "source": [
    "### AIM:\n",
    "Implement a basic hashing model from scratch that hashes the images"
   ]
  },
  {
   "cell_type": "markdown",
   "metadata": {},
   "source": [
    "### PROCEDURE\n",
    "- Importing Libraries.\n",
    "- Reading the dataset.\n",
    "- Resize the image to a suitable size, followed by grayscale conversion of the image and Plotting them.\n",
    "- Then mean normalize the image to obtain a binary image, whose sum can be used as a hash value.\n",
    "- Using the hash model, encode all the images present inside the directory.\n",
    "- Search for images similar to the query image."
   ]
  },
  {
   "cell_type": "code",
   "execution_count": 1,
   "metadata": {},
   "outputs": [],
   "source": [
    "import os\n",
    "import numpy as np\n",
    "import pandas as pd\n",
    "import matplotlib.pyplot as plt"
   ]
  },
  {
   "cell_type": "markdown",
   "metadata": {},
   "source": [
    "## Read Dataset"
   ]
  },
  {
   "cell_type": "code",
   "execution_count": 2,
   "metadata": {},
   "outputs": [
    {
     "data": {
      "text/html": [
       "<div>\n",
       "<style scoped>\n",
       "    .dataframe tbody tr th:only-of-type {\n",
       "        vertical-align: middle;\n",
       "    }\n",
       "\n",
       "    .dataframe tbody tr th {\n",
       "        vertical-align: top;\n",
       "    }\n",
       "\n",
       "    .dataframe thead th {\n",
       "        text-align: right;\n",
       "    }\n",
       "</style>\n",
       "<table border=\"1\" class=\"dataframe\">\n",
       "  <thead>\n",
       "    <tr style=\"text-align: right;\">\n",
       "      <th></th>\n",
       "      <th>label</th>\n",
       "      <th>1x1</th>\n",
       "      <th>1x2</th>\n",
       "      <th>1x3</th>\n",
       "      <th>1x4</th>\n",
       "      <th>1x5</th>\n",
       "      <th>1x6</th>\n",
       "      <th>1x7</th>\n",
       "      <th>1x8</th>\n",
       "      <th>1x9</th>\n",
       "      <th>...</th>\n",
       "      <th>28x19</th>\n",
       "      <th>28x20</th>\n",
       "      <th>28x21</th>\n",
       "      <th>28x22</th>\n",
       "      <th>28x23</th>\n",
       "      <th>28x24</th>\n",
       "      <th>28x25</th>\n",
       "      <th>28x26</th>\n",
       "      <th>28x27</th>\n",
       "      <th>28x28</th>\n",
       "    </tr>\n",
       "  </thead>\n",
       "  <tbody>\n",
       "    <tr>\n",
       "      <th>0</th>\n",
       "      <td>7</td>\n",
       "      <td>0</td>\n",
       "      <td>0</td>\n",
       "      <td>0</td>\n",
       "      <td>0</td>\n",
       "      <td>0</td>\n",
       "      <td>0</td>\n",
       "      <td>0</td>\n",
       "      <td>0</td>\n",
       "      <td>0</td>\n",
       "      <td>...</td>\n",
       "      <td>0</td>\n",
       "      <td>0</td>\n",
       "      <td>0</td>\n",
       "      <td>0</td>\n",
       "      <td>0</td>\n",
       "      <td>0</td>\n",
       "      <td>0</td>\n",
       "      <td>0</td>\n",
       "      <td>0</td>\n",
       "      <td>0</td>\n",
       "    </tr>\n",
       "    <tr>\n",
       "      <th>1</th>\n",
       "      <td>2</td>\n",
       "      <td>0</td>\n",
       "      <td>0</td>\n",
       "      <td>0</td>\n",
       "      <td>0</td>\n",
       "      <td>0</td>\n",
       "      <td>0</td>\n",
       "      <td>0</td>\n",
       "      <td>0</td>\n",
       "      <td>0</td>\n",
       "      <td>...</td>\n",
       "      <td>0</td>\n",
       "      <td>0</td>\n",
       "      <td>0</td>\n",
       "      <td>0</td>\n",
       "      <td>0</td>\n",
       "      <td>0</td>\n",
       "      <td>0</td>\n",
       "      <td>0</td>\n",
       "      <td>0</td>\n",
       "      <td>0</td>\n",
       "    </tr>\n",
       "    <tr>\n",
       "      <th>2</th>\n",
       "      <td>1</td>\n",
       "      <td>0</td>\n",
       "      <td>0</td>\n",
       "      <td>0</td>\n",
       "      <td>0</td>\n",
       "      <td>0</td>\n",
       "      <td>0</td>\n",
       "      <td>0</td>\n",
       "      <td>0</td>\n",
       "      <td>0</td>\n",
       "      <td>...</td>\n",
       "      <td>0</td>\n",
       "      <td>0</td>\n",
       "      <td>0</td>\n",
       "      <td>0</td>\n",
       "      <td>0</td>\n",
       "      <td>0</td>\n",
       "      <td>0</td>\n",
       "      <td>0</td>\n",
       "      <td>0</td>\n",
       "      <td>0</td>\n",
       "    </tr>\n",
       "    <tr>\n",
       "      <th>3</th>\n",
       "      <td>0</td>\n",
       "      <td>0</td>\n",
       "      <td>0</td>\n",
       "      <td>0</td>\n",
       "      <td>0</td>\n",
       "      <td>0</td>\n",
       "      <td>0</td>\n",
       "      <td>0</td>\n",
       "      <td>0</td>\n",
       "      <td>0</td>\n",
       "      <td>...</td>\n",
       "      <td>0</td>\n",
       "      <td>0</td>\n",
       "      <td>0</td>\n",
       "      <td>0</td>\n",
       "      <td>0</td>\n",
       "      <td>0</td>\n",
       "      <td>0</td>\n",
       "      <td>0</td>\n",
       "      <td>0</td>\n",
       "      <td>0</td>\n",
       "    </tr>\n",
       "    <tr>\n",
       "      <th>4</th>\n",
       "      <td>4</td>\n",
       "      <td>0</td>\n",
       "      <td>0</td>\n",
       "      <td>0</td>\n",
       "      <td>0</td>\n",
       "      <td>0</td>\n",
       "      <td>0</td>\n",
       "      <td>0</td>\n",
       "      <td>0</td>\n",
       "      <td>0</td>\n",
       "      <td>...</td>\n",
       "      <td>0</td>\n",
       "      <td>0</td>\n",
       "      <td>0</td>\n",
       "      <td>0</td>\n",
       "      <td>0</td>\n",
       "      <td>0</td>\n",
       "      <td>0</td>\n",
       "      <td>0</td>\n",
       "      <td>0</td>\n",
       "      <td>0</td>\n",
       "    </tr>\n",
       "  </tbody>\n",
       "</table>\n",
       "<p>5 rows × 785 columns</p>\n",
       "</div>"
      ],
      "text/plain": [
       "   label  1x1  1x2  1x3  1x4  1x5  1x6  1x7  1x8  1x9  ...  28x19  28x20  \\\n",
       "0      7    0    0    0    0    0    0    0    0    0  ...      0      0   \n",
       "1      2    0    0    0    0    0    0    0    0    0  ...      0      0   \n",
       "2      1    0    0    0    0    0    0    0    0    0  ...      0      0   \n",
       "3      0    0    0    0    0    0    0    0    0    0  ...      0      0   \n",
       "4      4    0    0    0    0    0    0    0    0    0  ...      0      0   \n",
       "\n",
       "   28x21  28x22  28x23  28x24  28x25  28x26  28x27  28x28  \n",
       "0      0      0      0      0      0      0      0      0  \n",
       "1      0      0      0      0      0      0      0      0  \n",
       "2      0      0      0      0      0      0      0      0  \n",
       "3      0      0      0      0      0      0      0      0  \n",
       "4      0      0      0      0      0      0      0      0  \n",
       "\n",
       "[5 rows x 785 columns]"
      ]
     },
     "execution_count": 2,
     "metadata": {},
     "output_type": "execute_result"
    }
   ],
   "source": [
    "data_path = '../week16/mnist_test/mnist_test.csv'\n",
    "df = pd.read_csv(data_path)\n",
    "df.head()"
   ]
  },
  {
   "cell_type": "code",
   "execution_count": 3,
   "metadata": {},
   "outputs": [
    {
     "data": {
      "text/plain": [
       "(10000, 785)"
      ]
     },
     "execution_count": 3,
     "metadata": {},
     "output_type": "execute_result"
    }
   ],
   "source": [
    "df.shape"
   ]
  },
  {
   "cell_type": "code",
   "execution_count": 4,
   "metadata": {},
   "outputs": [],
   "source": [
    "data = df.values\n",
    "X, y = data[:,1:], data[:,0]"
   ]
  },
  {
   "cell_type": "code",
   "execution_count": 5,
   "metadata": {},
   "outputs": [
    {
     "data": {
      "text/plain": [
       "((10000, 784), (10000,))"
      ]
     },
     "execution_count": 5,
     "metadata": {},
     "output_type": "execute_result"
    }
   ],
   "source": [
    "X.shape, y.shape"
   ]
  },
  {
   "cell_type": "markdown",
   "metadata": {},
   "source": [
    "## Plot some images from dataset"
   ]
  },
  {
   "cell_type": "code",
   "execution_count": 6,
   "metadata": {},
   "outputs": [
    {
     "data": {
      "image/png": "[encoded data removed]",
      "text/plain": [
       "<Figure size 1152x576 with 10 Axes>"
      ]
     },
     "metadata": {
      "needs_background": "light"
     },
     "output_type": "display_data"
    }
   ],
   "source": [
    "rand_idx = np.random.choice(X.shape[0], 10)\n",
    "\n",
    "fig, ax = plt.subplots(2,5, figsize=(16,8))\n",
    "c = 0\n",
    "for i in range(2):\n",
    "    for j in range(5):\n",
    "        img = X[rand_idx[c],:]\n",
    "        img_arr = np.uint8(img.reshape(28,28))\n",
    "        ax[i,j].imshow(img_arr, cmap='gray')\n",
    "        ax[i,j].set_axis_off()\n",
    "        c += 1\n",
    "plt.show()"
   ]
  },
  {
   "cell_type": "markdown",
   "metadata": {},
   "source": [
    "# Image Vectorization and PCA"
   ]
  },
  {
   "cell_type": "code",
   "execution_count": 7,
   "metadata": {},
   "outputs": [],
   "source": [
    "# Vectorize the images and converting to unit vectors\n",
    "X_vec = []\n",
    "for i in range(X.shape[0]):\n",
    "    img_vec = X[i]\n",
    "    img_vec_norm = img_vec/ np.linalg.norm(img_vec)\n",
    "    X_vec.append(img_vec_norm)\n",
    "X_vec = np.array(X_vec)"
   ]
  },
  {
   "cell_type": "code",
   "execution_count": 8,
   "metadata": {},
   "outputs": [
    {
     "data": {
      "text/plain": [
       "(10000, 784)"
      ]
     },
     "execution_count": 8,
     "metadata": {},
     "output_type": "execute_result"
    }
   ],
   "source": [
    "X_vec.shape"
   ]
  },
  {
   "cell_type": "code",
   "execution_count": 9,
   "metadata": {},
   "outputs": [],
   "source": [
    "## Split dataset into training and testing sets\n",
    "from sklearn.model_selection import train_test_split\n",
    "\n",
    "X_train, X_test, y_train, y_test = train_test_split(X_vec, y, test_size=0.5, stratify=y, random_state=23) #sets for hashing\n",
    "\n",
    "X_train_org, X_test_org, y_train_org, y_test_org = train_test_split(X, y, test_size=0.5, stratify=y, random_state=23) #sets for plotting"
   ]
  },
  {
   "cell_type": "code",
   "execution_count": 10,
   "metadata": {},
   "outputs": [
    {
     "data": {
      "text/plain": [
       "((5000, 784), (5000, 784))"
      ]
     },
     "execution_count": 10,
     "metadata": {},
     "output_type": "execute_result"
    }
   ],
   "source": [
    "X_train.shape, X_test.shape"
   ]
  },
  {
   "cell_type": "code",
   "execution_count": 11,
   "metadata": {},
   "outputs": [
    {
     "data": {
      "text/plain": [
       "array([3, 4, 2, ..., 1, 6, 5])"
      ]
     },
     "execution_count": 11,
     "metadata": {},
     "output_type": "execute_result"
    }
   ],
   "source": [
    "y_train"
   ]
  },
  {
   "cell_type": "code",
   "execution_count": 12,
   "metadata": {},
   "outputs": [
    {
     "data": {
      "text/plain": [
       "array([3, 4, 2, ..., 1, 6, 5])"
      ]
     },
     "execution_count": 12,
     "metadata": {},
     "output_type": "execute_result"
    }
   ],
   "source": [
    "y_train_org"
   ]
  },
  {
   "cell_type": "code",
   "execution_count": 13,
   "metadata": {},
   "outputs": [],
   "source": [
    "# Dimensionility Reduction using PCA\n",
    "from sklearn.decomposition import PCA\n",
    "\n",
    "pca = PCA(n_components=40)\n",
    "X_train_transformed = pca.fit_transform(X_train)\n",
    "X_test_transformed = pca.fit_transform(X_test)"
   ]
  },
  {
   "cell_type": "code",
   "execution_count": 14,
   "metadata": {},
   "outputs": [
    {
     "data": {
      "text/plain": [
       "((5000, 40), (5000, 40))"
      ]
     },
     "execution_count": 14,
     "metadata": {},
     "output_type": "execute_result"
    }
   ],
   "source": [
    "X_train_transformed.shape, X_test_transformed.shape"
   ]
  },
  {
   "cell_type": "code",
   "execution_count": 15,
   "metadata": {},
   "outputs": [
    {
     "data": {
      "text/plain": [
       "(array([0, 1, 2, 3, 4, 5, 6, 7, 8, 9]),\n",
       " array([490, 568, 516, 505, 491, 446, 479, 514, 487, 504]))"
      ]
     },
     "execution_count": 15,
     "metadata": {},
     "output_type": "execute_result"
    }
   ],
   "source": [
    "np.unique(y_train, return_counts=True)"
   ]
  },
  {
   "cell_type": "code",
   "execution_count": 16,
   "metadata": {},
   "outputs": [
    {
     "data": {
      "text/plain": [
       "(array([0, 1, 2, 3, 4, 5, 6, 7, 8, 9]),\n",
       " array([490, 567, 516, 505, 491, 446, 479, 514, 487, 505]))"
      ]
     },
     "execution_count": 16,
     "metadata": {},
     "output_type": "execute_result"
    }
   ],
   "source": [
    "np.unique(y_test, return_counts=True)"
   ]
  },
  {
   "cell_type": "markdown",
   "metadata": {},
   "source": [
    "# Local Sensitive Hashing - Random Projections"
   ]
  },
  {
   "cell_type": "code",
   "execution_count": 17,
   "metadata": {},
   "outputs": [],
   "source": [
    "## Function for creating random unit vectors in the space\n",
    "def genRandomHashVectors(m, length):\n",
    "    hash_vector = []\n",
    "    for i in range(m):\n",
    "        v = np.random.uniform(-1,1,length)\n",
    "        vcap = v/np.linalg.norm(v)\n",
    "        hash_vector.append(vcap)\n",
    "    return np.array(hash_vector)"
   ]
  },
  {
   "cell_type": "code",
   "execution_count": 18,
   "metadata": {},
   "outputs": [],
   "source": [
    "def localSensitiveHashing(hash_vector, data):\n",
    "    hash_code = []\n",
    "    for i in range(hash_vector.shape[0]):\n",
    "        if np.dot(data, hash_vector[i]) >= 0:\n",
    "            hash_code.append('1')\n",
    "        else:\n",
    "            hash_code.append('0')\n",
    "    return ''.join(hash_code)"
   ]
  },
  {
   "cell_type": "code",
   "execution_count": 19,
   "metadata": {},
   "outputs": [],
   "source": [
    "hash_vector = genRandomHashVectors(15, X_train_transformed.shape[1])"
   ]
  },
  {
   "cell_type": "code",
   "execution_count": 20,
   "metadata": {},
   "outputs": [
    {
     "data": {
      "text/plain": [
       "(15, 40)"
      ]
     },
     "execution_count": 20,
     "metadata": {},
     "output_type": "execute_result"
    }
   ],
   "source": [
    "hash_vector.shape"
   ]
  },
  {
   "cell_type": "code",
   "execution_count": 21,
   "metadata": {},
   "outputs": [
    {
     "data": {
      "text/plain": [
       "'110000011001011'"
      ]
     },
     "execution_count": 21,
     "metadata": {},
     "output_type": "execute_result"
    }
   ],
   "source": [
    "localSensitiveHashing(hash_vector, X_test_transformed[0])"
   ]
  },
  {
   "cell_type": "markdown",
   "metadata": {},
   "source": [
    "# Hashing with Hierarchical Structures"
   ]
  },
  {
   "cell_type": "code",
   "execution_count": 43,
   "metadata": {},
   "outputs": [],
   "source": [
    "## class for defining a Node of a Tree\n",
    "class Node:\n",
    "    def __init__(self) -> None:\n",
    "        self.m_NodeIndex = -1\n",
    "        self.m_NodeDepth = -1\n",
    "        self.m_ParentIndex = -1\n",
    "        self.m_LeftChildIndex = -1\n",
    "        self.m_RightChildIndex = -1\n",
    "        self.m_IsDecisionNode = None\n",
    "        self.m_Dim = None\n",
    "        self.m_Value = None\n",
    "    \n",
    "    def setNode(self, nodeIndex, nodeDepth, parentIndex):\n",
    "        self.m_NodeIndex = nodeIndex\n",
    "        self.m_NodeDepth = nodeDepth\n",
    "        self.m_ParentIndex = parentIndex"
   ]
  },
  {
   "cell_type": "code",
   "execution_count": 52,
   "metadata": {},
   "outputs": [],
   "source": [
    "## class for defining the Hash Tree architecture\n",
    "class HashTree:\n",
    "    def __init__(self, depth, path) -> None:\n",
    "        self.m_Depth = depth\n",
    "        self.m_CurrentNodeNum = 0\n",
    "        self.m_NodeArray = [Node() for i in range(2**(depth+1)-1)]\n",
    "        self.m_Path = path\n",
    "    \n",
    "    def splitDataFile(self, node_obj, dataLeft, dataRight):\n",
    "        filename1 = self.m_Path+\"/\"+\"d_\"+str(node_obj.m_LeftChildIndex)+\".csv\"\n",
    "        filename2 = self.m_Path+\"/\"+\"d_\"+str(node_obj.m_RightChildIndex)+\".csv\"\n",
    "        os.makedirs(os.path.dirname(filename1), exist_ok=True)\n",
    "        os.makedirs(os.path.dirname(filename2), exist_ok=True)\n",
    "        np.savetxt(filename1, dataLeft, delimiter=',')\n",
    "        np.savetxt(filename2, dataRight, delimiter=',')\n",
    "\n",
    "    def segData(self, data, j, theta):\n",
    "        dataLeft, dataRight = [], []\n",
    "        for row in data:\n",
    "            if row[j] >= theta:\n",
    "                dataRight.append(row)\n",
    "            else:\n",
    "                dataLeft.append(row)\n",
    "        return np.array(dataLeft), np.array(dataRight)\n",
    "\n",
    "    def printNodeData(self, node):\n",
    "        print(\"Node Index: \", node.m_NodeIndex)\n",
    "        print(\"Node Depth: \", node.m_NodeDepth)\n",
    "        print(\"Dimension: \", node.m_Dim)\n",
    "        print(\"Value: \", node.m_Value)\n",
    "        if node.m_IsDecisionNode == False:\n",
    "            print(\"This is a Leaf Node!\")\n",
    "        else:\n",
    "            print(\"This is a Decision Node!\")\n",
    "\n",
    "    def fit(self, Data):\n",
    "        filename = self.m_Path+\"/\"+\"d_0.csv\"\n",
    "        data_df = pd.DataFrame(Data)\n",
    "        data_df.to_csv(filename, header=False, index=False)\n",
    "        self.m_NodeArray[0].setNode(nodeIndex=0,nodeDepth=0,parentIndex=-1)  ## create root node      \n",
    "        self.m_CurrentNodeNum += 1\n",
    "        \n",
    "        for nodeCount in range(len(self.m_NodeArray)):\n",
    "\n",
    "            if (self.m_NodeArray[nodeCount].m_NodeIndex == nodeCount and\n",
    "                self.m_NodeArray[nodeCount].m_NodeDepth >= 0):\n",
    "\n",
    "                filename = self.m_Path+\"/\"+\"d_\"+str(self.m_NodeArray[nodeCount].m_NodeIndex)+\".csv\"\n",
    "                if os.path.exists(filename):\n",
    "                    data = np.genfromtxt(filename, delimiter=',')\n",
    "                else:\n",
    "                    print(\"File doesn't exists: {}\".format(filename))\n",
    "\n",
    "                if self.m_NodeArray[nodeCount].m_NodeDepth != self.m_Depth:\n",
    "                    self.m_NodeArray[nodeCount].m_IsDecisionNode = True\n",
    "\n",
    "                    self.m_NodeArray[nodeCount].m_Dim = np.argmax(np.var(data, axis=0)) \n",
    "                    self.m_NodeArray[nodeCount].m_Value = np.median(data[:,self.m_NodeArray[nodeCount].m_Dim])\n",
    "                    dataLeft, dataRight = self.segData(data, self.m_NodeArray[nodeCount].m_Dim, self.m_NodeArray[nodeCount].m_Value)\n",
    "                    \n",
    "                    lci = self.m_CurrentNodeNum \n",
    "                    rci = self.m_CurrentNodeNum + 1\n",
    "\n",
    "                    self.m_NodeArray[nodeCount].m_LeftChildIndex = lci\n",
    "                    self.m_NodeArray[nodeCount].m_RightChildIndex = rci\n",
    "\n",
    "                    self.m_NodeArray[lci].setNode(lci, self.m_NodeArray[nodeCount].m_NodeDepth+1, self.m_NodeArray[nodeCount].m_NodeIndex)\n",
    "                    self.m_NodeArray[rci].setNode(rci, self.m_NodeArray[nodeCount].m_NodeDepth+1, self.m_NodeArray[nodeCount].m_NodeIndex)\n",
    "                    self.splitDataFile(self.m_NodeArray[nodeCount], dataLeft, dataRight)\n",
    "                    self.m_CurrentNodeNum += 2\n",
    "\n",
    "                else:\n",
    "                    self.m_NodeArray[nodeCount].m_IsDecisionNode = False\n",
    "                self.printNodeData(self.m_NodeArray[nodeCount])\n",
    "            else:\n",
    "                print('Hash Tree is Built!!!!')\n",
    "                break\n",
    "\n",
    "    def getHashCode(self, data):\n",
    "        hash_code = []\n",
    "        nodeCount = 0\n",
    "        while nodeCount < len(self.m_NodeArray):\n",
    "            if self.m_NodeArray[nodeCount].m_IsDecisionNode == True:\n",
    "                if data[self.m_NodeArray[nodeCount].m_Dim] >= self.m_NodeArray[nodeCount].m_Value:\n",
    "                    hash_code.append('0')\n",
    "                    nodeCount = self.m_NodeArray[nodeCount].m_RightChildIndex\n",
    "                else:\n",
    "                    hash_code.append('1')\n",
    "                    nodeCount = self.m_NodeArray[nodeCount].m_LeftChildIndex\n",
    "            else:\n",
    "                break\n",
    "        return ''.join(hash_code)"
   ]
  },
  {
   "cell_type": "code",
   "execution_count": 63,
   "metadata": {},
   "outputs": [
    {
     "name": "stdout",
     "output_type": "stream",
     "text": [
      "Node Index:  0\n",
      "Node Depth:  0\n",
      "Dimension:  378\n",
      "Value:  0.029760269353697015\n",
      "This is a Decision Node!\n",
      "Node Index:  1\n",
      "Node Depth:  1\n",
      "Dimension:  408\n",
      "Value:  0.060038001684824066\n",
      "This is a Decision Node!\n",
      "Node Index:  2\n",
      "Node Depth:  1\n",
      "Dimension:  462\n",
      "Value:  0.06363699664740649\n",
      "This is a Decision Node!\n",
      "Node Index:  3\n",
      "Node Depth:  2\n",
      "Dimension:  410\n",
      "Value:  0.020165507667812846\n",
      "This is a Decision Node!\n",
      "Node Index:  4\n",
      "Node Depth:  2\n",
      "Dimension:  269\n",
      "Value:  0.04496947406612861\n",
      "This is a Decision Node!\n",
      "Node Index:  5\n",
      "Node Depth:  2\n",
      "Dimension:  464\n",
      "Value:  0.01643765042008489\n",
      "This is a Decision Node!\n",
      "Node Index:  6\n",
      "Node Depth:  2\n",
      "Dimension:  322\n",
      "Value:  0.055281690896082814\n",
      "This is a Decision Node!\n",
      "Node Index:  7\n",
      "Node Depth:  3\n",
      "Dimension:  None\n",
      "Value:  None\n",
      "This is a Leaf Node!\n",
      "Node Index:  8\n",
      "Node Depth:  3\n",
      "Dimension:  None\n",
      "Value:  None\n",
      "This is a Leaf Node!\n",
      "Node Index:  9\n",
      "Node Depth:  3\n",
      "Dimension:  None\n",
      "Value:  None\n",
      "This is a Leaf Node!\n",
      "Node Index:  10\n",
      "Node Depth:  3\n",
      "Dimension:  None\n",
      "Value:  None\n",
      "This is a Leaf Node!\n",
      "Node Index:  11\n",
      "Node Depth:  3\n",
      "Dimension:  None\n",
      "Value:  None\n",
      "This is a Leaf Node!\n",
      "Node Index:  12\n",
      "Node Depth:  3\n",
      "Dimension:  None\n",
      "Value:  None\n",
      "This is a Leaf Node!\n",
      "Node Index:  13\n",
      "Node Depth:  3\n",
      "Dimension:  None\n",
      "Value:  None\n",
      "This is a Leaf Node!\n",
      "Node Index:  14\n",
      "Node Depth:  3\n",
      "Dimension:  None\n",
      "Value:  None\n",
      "This is a Leaf Node!\n"
     ]
    }
   ],
   "source": [
    "path = \"node_files/\"\n",
    "if not os.path.exists(path):\n",
    "    os.mkdir(path=path)\n",
    "hash_tree = HashTree(depth=3, path=path)\n",
    "hash_tree.fit(Data=X_train)"
   ]
  },
  {
   "cell_type": "code",
   "execution_count": 64,
   "metadata": {},
   "outputs": [
    {
     "data": {
      "text/plain": [
       "'001'"
      ]
     },
     "execution_count": 64,
     "metadata": {},
     "output_type": "execute_result"
    }
   ],
   "source": [
    "hash_tree.getHashCode(X_test[0])"
   ]
  },
  {
   "cell_type": "code",
   "execution_count": 65,
   "metadata": {},
   "outputs": [],
   "source": [
    "image_dict = {}\n",
    "for i in range(X_train.shape[0]):\n",
    "    hash_code = hash_tree.getHashCode(X_train[i])\n",
    "    if hash_code not in image_dict.keys():\n",
    "        image_dict[hash_code] = [i]\n",
    "    else:\n",
    "        image_dict[hash_code].append(i)"
   ]
  },
  {
   "cell_type": "code",
   "execution_count": 66,
   "metadata": {},
   "outputs": [
    {
     "data": {
      "text/plain": [
       "dict_keys(['011', '110', '101', '000', '010', '100', '111', '001'])"
      ]
     },
     "execution_count": 66,
     "metadata": {},
     "output_type": "execute_result"
    }
   ],
   "source": [
    "image_dict.keys()"
   ]
  },
  {
   "cell_type": "code",
   "execution_count": 77,
   "metadata": {},
   "outputs": [
    {
     "data": {
      "image/png": "[encoded data removed]",
      "text/plain": [
       "<Figure size 504x432 with 1 Axes>"
      ]
     },
     "metadata": {
      "needs_background": "light"
     },
     "output_type": "display_data"
    }
   ],
   "source": [
    "query_img = X_test_transformed[10]\n",
    "query_img_plt = X_test_org[10]\n",
    "plt.figure(figsize=(7,6))\n",
    "plt.title('Query Image')\n",
    "img = np.uint8(query_img_plt.reshape(28,28))\n",
    "plt.imshow(img, cmap='gray')\n",
    "plt.show()"
   ]
  },
  {
   "cell_type": "code",
   "execution_count": 78,
   "metadata": {},
   "outputs": [],
   "source": [
    "def filter_searches(query_img, image_dict, k=5):\n",
    "    query_hash_code = hash_tree.getHashCode(query_img)\n",
    "    if query_hash_code in image_dict.keys():\n",
    "        n_similar_arr = np.array(image_dict[query_hash_code])\n",
    "        # print(n_similar_arr)\n",
    "        if len(n_similar_arr) < k:\n",
    "            print('Found just {} similar images'.format(len(n_similar_arr)))\n",
    "            k = len(n_similar_arr)\n",
    "        dist_ls = []\n",
    "        for i in n_similar_arr:\n",
    "            img = X_train[i]\n",
    "            dist = np.linalg.norm(img - query_img)\n",
    "            dist_ls.append(dist)\n",
    "        dist_ls_sorted_ids = np.argsort(dist_ls)\n",
    "        n_similar_sorted = n_similar_arr[dist_ls_sorted_ids]\n",
    "        return n_similar_sorted[:k]\n",
    "    else:\n",
    "        print(\"No similar image found in database!!\")\n",
    "        return None    "
   ]
  },
  {
   "cell_type": "code",
   "execution_count": 79,
   "metadata": {},
   "outputs": [
    {
     "name": "stdout",
     "output_type": "stream",
     "text": [
      "[4869  440 4572 1686 3571]\n"
     ]
    }
   ],
   "source": [
    "ids = filter_searches(query_img=query_img_plt, image_dict=image_dict)\n",
    "print(ids)"
   ]
  },
  {
   "cell_type": "code",
   "execution_count": 80,
   "metadata": {},
   "outputs": [],
   "source": [
    "def plot_top_search(ids):\n",
    "    k = len(ids)\n",
    "    fig,ax = plt.subplots(1,k,figsize=(20,7))\n",
    "    c=0\n",
    "    for i in ids:\n",
    "        img = X_train_org[i]\n",
    "        img = np.uint8(img.reshape(28,28))\n",
    "        ax[c].imshow(img, cmap='gray')\n",
    "        ax[c].set_axis_off()\n",
    "        ax[c].set_title('Result {}'.format(i))\n",
    "        c += 1\n",
    "    plt.show()"
   ]
  },
  {
   "cell_type": "code",
   "execution_count": 81,
   "metadata": {},
   "outputs": [
    {
     "data": {
      "image/png": "[encoded data removed]",
      "text/plain": [
       "<Figure size 1440x504 with 5 Axes>"
      ]
     },
     "metadata": {
      "needs_background": "light"
     },
     "output_type": "display_data"
    }
   ],
   "source": [
    "plot_top_search(ids)"
   ]
  },
  {
   "cell_type": "code",
   "execution_count": null,
   "metadata": {},
   "outputs": [],
   "source": []
  }
 ],
 "metadata": {
  "kernelspec": {
   "display_name": "Python 3 (ipykernel)",
   "language": "python",
   "name": "python3"
  },
  "language_info": {
   "codemirror_mode": {
    "name": "ipython",
    "version": 3
   },
   "file_extension": ".py",
   "mimetype": "text/x-python",
   "name": "python",
   "nbconvert_exporter": "python",
   "pygments_lexer": "ipython3",
   "version": "3.10.9"
  },
  "vscode": {
   "interpreter": {
    "hash": "e0105ac9406840dc292ffde5e398b59ab58478a652bb16a9603dc66a7e7ff2c1"
   }
  }
 },
 "nbformat": 4,
 "nbformat_minor": 2
}
